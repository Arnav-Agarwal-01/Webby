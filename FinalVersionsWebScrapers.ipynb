{
 "cells": [
  {
   "cell_type": "code",
   "execution_count": 1,
   "id": "1f55bb8b",
   "metadata": {},
   "outputs": [],
   "source": [
    "from selenium import webdriver\n",
    "from selenium.webdriver.chrome.service import Service\n",
    "from webdriver_manager.chrome import ChromeDriverManager\n",
    "from selenium.webdriver.common.by import By\n",
    "from selenium.webdriver.support.ui import WebDriverWait\n",
    "from selenium.webdriver.support import expected_conditions as EC\n",
    "from bs4 import BeautifulSoup\n",
    "import requests"
   ]
  },
  {
   "cell_type": "code",
   "execution_count": 5,
   "id": "81cb0f62",
   "metadata": {},
   "outputs": [
    {
     "ename": "TypeError",
     "evalue": "'NoneType' object is not iterable",
     "output_type": "error",
     "traceback": [
      "\u001b[1;31m---------------------------------------------------------------------------\u001b[0m",
      "\u001b[1;31mTypeError\u001b[0m                                 Traceback (most recent call last)",
      "Cell \u001b[1;32mIn[5], line 9\u001b[0m\n\u001b[0;32m      7\u001b[0m results \u001b[38;5;241m=\u001b[39m soup\u001b[38;5;241m.\u001b[39mfind(class_\u001b[38;5;241m=\u001b[39m\u001b[38;5;124m\"\u001b[39m\u001b[38;5;124mdatatable\u001b[39m\u001b[38;5;124m\"\u001b[39m)\n\u001b[0;32m      8\u001b[0m data \u001b[38;5;241m=\u001b[39m []\n\u001b[1;32m----> 9\u001b[0m \u001b[38;5;28;01mfor\u001b[39;00m row \u001b[38;5;129;01min\u001b[39;00m results:\n\u001b[0;32m     10\u001b[0m     \u001b[38;5;28;01mif\u001b[39;00m row \u001b[38;5;241m!=\u001b[39m null:\n\u001b[0;32m     11\u001b[0m         row\u001b[38;5;241m.\u001b[39mfind_all(\u001b[38;5;124m'\u001b[39m\u001b[38;5;124mtr\u001b[39m\u001b[38;5;124m'\u001b[39m)\n",
      "\u001b[1;31mTypeError\u001b[0m: 'NoneType' object is not iterable"
     ]
    }
   ],
   "source": [
    "#Codeforces\n",
    "import requests\n",
    "from bs4 import BeautifulSoup\n",
    "URL = \"https://codeforces.com/contests\"\n",
    "page = requests.get(URL)\n",
    "soup = BeautifulSoup(page.content,\"html.parser\")\n",
    "results = soup.find(class_=\"datatable\")\n",
    "data = []\n",
    "for row in results.find_all('tr'):\n",
    "    cells = row.find_all('td')\n",
    "    row_data = [cell.text.strip() for cell in cells]\n",
    "    data.append(row_data)\n",
    "for row in data:\n",
    "    if(len(row) == 0):\n",
    "        continue\n",
    "    print(row[0] , \"On\" , row[1] ,\"\", row[2] )"
   ]
  },
  {
   "cell_type": "code",
   "execution_count": null,
   "id": "f79bab83",
   "metadata": {},
   "outputs": [],
   "source": [
    "#Leetcode\n",
    "from selenium import webdriver\n",
    "from selenium.webdriver.chrome.service import Service\n",
    "from webdriver_manager.chrome import ChromeDriverManager\n",
    "from bs4 import BeautifulSoup\n",
    "\n",
    "# Set up the Chrome WebDriver\n",
    "driver = webdriver.Chrome(service=Service(ChromeDriverManager().install()))\n",
    "driver.get('https://leetcode.com/contest/')\n",
    "\n",
    "# Get the page source and parse it with BeautifulSoup\n",
    "html = driver.page_source\n",
    "soup = BeautifulSoup(html, 'html.parser')\n",
    "\n",
    "# Find the contest elements\n",
    "contests = soup.find_all('div', class_='h-[54px]')\n",
    "\n",
    "# Extract and print the contest name and timing\n",
    "for contest in contests:\n",
    "    name_tag = contest.find('span', class_='transition-colors')\n",
    "    timing_tag = contest.find('div', class_='text-label-2')\n",
    "    \n",
    "    name = name_tag.text.strip() if name_tag else 'N/A'\n",
    "    timing = timing_tag.text.strip() if timing_tag else 'N/A'\n",
    "    \n",
    "    print(f'Name: {name}, Timing: {timing}')\n",
    "\n",
    "# Close the WebDriver\n",
    "driver.quit()\n"
   ]
  },
  {
   "cell_type": "code",
   "execution_count": null,
   "id": "594896fc",
   "metadata": {},
   "outputs": [],
   "source": [
    "#CodeChef\n",
    "codeurl = 'https://www.codechef.com/contests'\n",
    "\n",
    "driver = webdriver.Chrome(service=Service(ChromeDriverManager().install()))\n",
    "driver.get(codeurl)\n",
    "soup = BeautifulSoup(html,'html.parser')\n",
    "try:\n",
    "    element = WebDriverWait(driver, 10).until(\n",
    "        EC.presence_of_element_located((By.CLASS_NAME, \"_table__container_16jko_344\"))\n",
    "    )\n",
    "    # Once the element is present, get the page source\n",
    "    html = driver.page_source\n",
    "    soup = BeautifulSoup(html, 'html.parser')\n",
    "\n",
    "    # Find the table\n",
    "    table = soup.find('div', class_='_table__container_16jko_344')\n",
    "\n",
    "except Exception as e:\n",
    "    print(\"Error:\", e)\n",
    "    \n",
    "    \n",
    "tbody = table.find('tbody',class_='MuiTableBody-root')\n",
    "trs = tbody.find_all('tr')\n",
    "data = []\n",
    "for t in trs:\n",
    "    tds = t.find_all('td')\n",
    "    \n",
    "    if tds:\n",
    "        data = [td.text.strip() for td in tds]\n",
    "        print(data)\n",
    "driver.quit()\n"
   ]
  },
  {
   "cell_type": "code",
   "execution_count": null,
   "id": "f3df0281",
   "metadata": {},
   "outputs": [],
   "source": [
    "aturl = 'https://atcoder.jp/'\n",
    "driver = webdriver.Chrome(service=Service(ChromeDriverManager().install()))\n",
    "driver.get(aturl)\n",
    "try:\n",
    "    element = WebDriverWait(driver, 10).until(\n",
    "        EC.presence_of_element_located((By.ID, \"contest-table-upcoming\"))\n",
    "    )\n",
    "    # Once the element is present, get the page source\n",
    "    html = driver.page_source\n",
    "    soup = BeautifulSoup(html, 'html.parser')\n",
    "\n",
    "    # Find the table\n",
    "    table = soup.find('div', class_='contest-table-upcoming')\n",
    "\n",
    "except Exception as e:\n",
    "    print(\"Error:\", e)\n",
    "# ab table se tr , tr se td then print \n",
    "data = [] \n",
    "trs = soup.find_all('tr')\n",
    "for t in trs:\n",
    "    tds = t.find_all('td')\n",
    "    if tds:\n",
    "        data = [td.text.strip() for td in tds] \n",
    "        print(data)\n",
    "driver.quit()"
   ]
  }
 ],
 "metadata": {
  "kernelspec": {
   "display_name": "Python 3 (ipykernel)",
   "language": "python",
   "name": "python3"
  },
  "language_info": {
   "codemirror_mode": {
    "name": "ipython",
    "version": 3
   },
   "file_extension": ".py",
   "mimetype": "text/x-python",
   "name": "python",
   "nbconvert_exporter": "python",
   "pygments_lexer": "ipython3",
   "version": "3.11.5"
  }
 },
 "nbformat": 4,
 "nbformat_minor": 5
}
